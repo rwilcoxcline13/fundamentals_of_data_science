{
 "cells": [
  {
   "cell_type": "markdown",
   "metadata": {
    "collapsed": true
   },
   "source": [
    "<h1> Probability Density Functions: Exercise </h1>\n",
    "\n",
    "<h3> Introduction </h3>\n",
    "\n",
    "<p>\n",
    "In the tutorial we introduced the concept of the probability density function by examining the Gaussian or normal distribution. Probability density functions are not limited to the normal distribution and throughout this series we will be using a variety of different PDF's and when they should be applied to model certain sets of data. In this exercise we will introduce the Benford PDF by looking at country populations. More information on the Benford PDF can be found at https://www.youtube.com/watch?v=XXjlR2OK1kM. </p>\n",
    "\n",
    "<p> Goals </p>\n",
    "<ul>\n",
    "<li> Learn common pandas practices and functions </li>\n",
    "<li> Be able to upload and organize data with pandas </li>\n",
    "<li> Transform a dictionary into a pandas dataframe object </li>\n",
    "<li> Calculate summary statistics using pandas </li>\n",
    "<li> Generate a discrete probability mass function (PMF) from data </li>\n",
    "</ul>\n",
    "\n",
    "<h3> Dealing with the Data </h3>\n",
    "\n",
    "<p> We first begin by loading numpy, matplotlib, and pandas. Remember, these packages are what allow us to perform mathematical operations, plot, and manage data. To do this we use the import function. </p>"
   ]
  },
  {
   "cell_type": "code",
   "execution_count": 230,
   "metadata": {
    "collapsed": true
   },
   "outputs": [],
   "source": [
    "import numpy as np\n",
    "import pandas as pd\n",
    "import matplotlib.pyplot as plt\n",
    "%matplotlib inline"
   ]
  },
  {
   "cell_type": "markdown",
   "metadata": {},
   "source": [
    "<p> Using the pandas function read_csv, we can load in the data from the CountryPopulation file. To print the first 5 rows of the data we can use the .head() method of the dataframe object.</p>"
   ]
  },
  {
   "cell_type": "code",
   "execution_count": 231,
   "metadata": {},
   "outputs": [
    {
     "name": "stdout",
     "output_type": "stream",
     "text": [
      "          country    population\n",
      "0     Afghanistan  2.185145e+07\n",
      "1         Albania  3.143047e+06\n",
      "2         Algeria  3.030252e+07\n",
      "3  American Samoa  6.762183e+04\n",
      "4         Andorra  8.195528e+04\n"
     ]
    }
   ],
   "source": [
    "data = pd.read_csv('CountryPopulation.csv')\n",
    "\n",
    "print(data.head())"
   ]
  },
  {
   "cell_type": "markdown",
   "metadata": {},
   "source": [
    "<p> Right now the data is stored as a pandas dataframe object. To check the class or type of object that is stored as a variable we can use the python type() function </p>"
   ]
  },
  {
   "cell_type": "code",
   "execution_count": 239,
   "metadata": {},
   "outputs": [
    {
     "name": "stdout",
     "output_type": "stream",
     "text": [
      "<class 'pandas.core.frame.DataFrame'>\n"
     ]
    }
   ],
   "source": [
    "print(type(data))"
   ]
  },
  {
   "cell_type": "markdown",
   "metadata": {},
   "source": [
    "<p> Once the data is stored in a pandas dataframe, it is remarkably easy to generate summary statistics (such as confidence intervals, mean, and standard deviation. These statstics are generated using the .describe method, which is associated with all dataframes. </p>"
   ]
  },
  {
   "cell_type": "code",
   "execution_count": 232,
   "metadata": {},
   "outputs": [
    {
     "name": "stdout",
     "output_type": "stream",
     "text": [
      "         population\n",
      "count  2.310000e+02\n",
      "mean   2.621784e+07\n",
      "std    1.098057e+08\n",
      "min    7.770609e+00\n",
      "25%    2.975826e+05\n",
      "50%    4.409269e+06\n",
      "75%    1.590857e+07\n",
      "max    1.253671e+09\n"
     ]
    }
   ],
   "source": [
    "print(data.describe())"
   ]
  },
  {
   "cell_type": "markdown",
   "metadata": {},
   "source": [
    "<p> Pandas dataframe objects are handled similar to dictionaries, as opposed to standard lists or numpy arrays. Before continuing we should note that our data is already organized with nice headers and no missing values and thus we do not need to do any cleaning. Let us recognize that the headers of our dataframe are country and population. We can access all the rows of a given column by calling the header name in brackets. If we wanted to grab a specific element or elements we then would follow with a second set of brackets that adheres to standard python indexing. For example if we wanted to grab the first 5 countries we would write: </p>"
   ]
  },
  {
   "cell_type": "code",
   "execution_count": 235,
   "metadata": {},
   "outputs": [
    {
     "name": "stdout",
     "output_type": "stream",
     "text": [
      "0       Afghanistan\n",
      "1           Albania\n",
      "2           Algeria\n",
      "3    American Samoa\n",
      "4           Andorra\n",
      "Name: country, dtype: object\n"
     ]
    }
   ],
   "source": [
    "print(data['country'][:5])"
   ]
  },
  {
   "cell_type": "markdown",
   "metadata": {},
   "source": [
    "<p> Often times we want to find the minimum or maximum value and the key associated with that value. In this case say we wanted to determine which countries have the smallest and largest populations respectively. We can determine this by first finding the indices of the extrema in the populations column and then calling those indices from the country column. Finding the minimum or maximum index is accomplished by us of the .idxmin and .idxmax methods. For example: </p>"
   ]
  },
  {
   "cell_type": "code",
   "execution_count": 238,
   "metadata": {},
   "outputs": [
    {
     "name": "stdout",
     "output_type": "stream",
     "text": [
      "197\n",
      "Svalbard\n",
      "China\n"
     ]
    }
   ],
   "source": [
    "#Determine and call country with min population\n",
    "min_idx = data['population'].idxmin()\n",
    "print(min_idx)\n",
    "print(data['country'][min_idx])\n",
    "\n",
    "\n",
    "#Call country with max population\n",
    "print(data['country'][data['population'].idxmax()])"
   ]
  },
  {
   "cell_type": "markdown",
   "metadata": {},
   "source": [
    "<h3> Leading Digit of Population </h3> \n",
    "\n",
    "<p> There are several ways of calculating the leading digit of a number but in an effort to build our computational skills we will employ a method involves using some computer science thinking. This is done by converting the populations to a string and calling the first index of the string. </p> \n",
    "\n",
    "\n",
    "Right now each population is stored as a floating point number in our dataframe. For example:"
   ]
  },
  {
   "cell_type": "code",
   "execution_count": 240,
   "metadata": {},
   "outputs": [
    {
     "name": "stdout",
     "output_type": "stream",
     "text": [
      "<class 'numpy.float64'>\n"
     ]
    }
   ],
   "source": [
    "print(type(data['population'][0]))"
   ]
  },
  {
   "cell_type": "markdown",
   "metadata": {},
   "source": [
    "<p> We can convert this value to a string using the str function </p>"
   ]
  },
  {
   "cell_type": "code",
   "execution_count": 241,
   "metadata": {},
   "outputs": [
    {
     "name": "stdout",
     "output_type": "stream",
     "text": [
      "<class 'str'>\n",
      "21851445.2\n"
     ]
    }
   ],
   "source": [
    "print(type(str(data['population'][0])))\n",
    "print(str(data['population'][0]))"
   ]
  },
  {
   "cell_type": "markdown",
   "metadata": {},
   "source": [
    "Now that this given entry is a string we can access each digit by indexing and then convert it back to a number using the int() function. We want the first digit thus"
   ]
  },
  {
   "cell_type": "code",
   "execution_count": 242,
   "metadata": {},
   "outputs": [
    {
     "name": "stdout",
     "output_type": "stream",
     "text": [
      "2\n"
     ]
    }
   ],
   "source": [
    "print(int(str(data['population'][0])[0]))"
   ]
  },
  {
   "cell_type": "markdown",
   "metadata": {},
   "source": [
    "<p> Now that we have the methodology to access the leading digit of a single entry, we can apply this for each country by using a for loop. We will loop through each country's population, determine the leading digit, and then store that value in a list defined as ld. </p>"
   ]
  },
  {
   "cell_type": "code",
   "execution_count": 243,
   "metadata": {},
   "outputs": [],
   "source": [
    "ld = np.array([int(str(pop)[0]) for pop in data['population']])"
   ]
  },
  {
   "cell_type": "markdown",
   "metadata": {},
   "source": [
    "<p> Now that we have the leading digits determined we want to determine the frequency of digit. To do this we are going to create a dictionary with keys corresponding the leading digit value and values according to the frequency. It is important to remember that the keys of a dictionary must be strings. In order to set up our dictionary, we will first start with an empty dictionary. We will then loop through each item in the leading digit array. Within our loop we have to consider two conditions: 1) It is the first time we see the digit and therefore set the count to 1 or 2) The digit has already appeared once and we want to add 1 to the frequency associated with that key. This can be accomplised by setting an if-else statement in the loop. We can call and assign values to dictionaries similar to lists by putting the key in brackets. If it is the first time seeing the key we will set the value associated with that key to 1. Otherwise we will add one to the value using the += operator. <p>"
   ]
  },
  {
   "cell_type": "code",
   "execution_count": 254,
   "metadata": {},
   "outputs": [
    {
     "name": "stdout",
     "output_type": "stream",
     "text": [
      "{'2': 39, '3': 32, '6': 19, '8': 14, '1': 66, '7': 16, '4': 21, '5': 17, '9': 7}\n"
     ]
    }
   ],
   "source": [
    "freq_ld = {}\n",
    "\n",
    "for d in ld:\n",
    "    \n",
    "    if str(d) not in freq_ld:\n",
    "        \n",
    "        freq_ld[str(d)] = 1\n",
    "        \n",
    "    else:\n",
    "        \n",
    "        freq_ld[str(d)] += 1\n",
    "\n",
    "print(freq_ld)"
   ]
  },
  {
   "cell_type": "markdown",
   "metadata": {},
   "source": [
    "<p> Now we have our transformed data stored in a dictionary, which isn't all that helpful because we can't easily manipulate or perform mathematical functions on dictionary items. To fix this, and to further practice with pandas, we will transform our frequency dictionary into a dataframe object, with headers being Leading Digit and Frequency. </p>\n",
    "\n",
    "<p>To do this we first want to convert all the items in our dictionary into a list. To access the items in a dictionary we can use the .items method. If we print this we see we get another object, where the keys and the values are grouped together as tuples. We can then turn these dictionary items into a list using the list() function.</p>"
   ]
  },
  {
   "cell_type": "code",
   "execution_count": 258,
   "metadata": {},
   "outputs": [
    {
     "name": "stdout",
     "output_type": "stream",
     "text": [
      "dict_items([('2', 39), ('3', 32), ('6', 19), ('8', 14), ('1', 66), ('7', 16), ('4', 21), ('5', 17), ('9', 7)])\n",
      "[('2', 39), ('3', 32), ('6', 19), ('8', 14), ('1', 66), ('7', 16), ('4', 21), ('5', 17), ('9', 7)]\n"
     ]
    }
   ],
   "source": [
    "print(freq_ld.items())\n",
    "print(list(freq_ld.items()))"
   ]
  },
  {
   "cell_type": "markdown",
   "metadata": {},
   "source": [
    "<p> We now have a way of grouping our data into rows and columns. We can now convert the dictionary to a pandas dataframe using the DataFrame function, which will take in a list of our dictionary items followed by a the header titles specificed as a list using the kwarg columns. </p>"
   ]
  },
  {
   "cell_type": "code",
   "execution_count": 259,
   "metadata": {},
   "outputs": [],
   "source": [
    "freq_ld = pd.DataFrame(list(freq_ld.items()), columns=['Leading Digit','Frequency'])"
   ]
  },
  {
   "cell_type": "markdown",
   "metadata": {},
   "source": [
    "<h2> Calculating Discrete Probabilities </h2>\n",
    "<p> Now we want to calculate the probability (frequency) of observing each digit. Recall that the probability of observing an instance is the number of times that instance is observed divided by the total number of observations. \n",
    "$$\n",
    "P = \\frac{N_{desired}}{N_{total}}\n",
    "$$\n",
    "\n",
    "Because we are given a fixed number of data points, i.e the discrete case, our PDF should technically be referred to as a probability mass function (PMF). Our goal is to plot this PMF. To do this we first must determine the probability of each digit occuring. This is done by applying the formula above."
   ]
  },
  {
   "cell_type": "code",
   "execution_count": 261,
   "metadata": {},
   "outputs": [
    {
     "name": "stdout",
     "output_type": "stream",
     "text": [
      "0    0.168831\n",
      "1    0.138528\n",
      "2    0.082251\n",
      "3    0.060606\n",
      "4    0.285714\n",
      "5    0.069264\n",
      "6    0.090909\n",
      "7    0.073593\n",
      "8    0.030303\n",
      "Name: Frequency, dtype: float64\n"
     ]
    }
   ],
   "source": [
    "ntotal = len(data['country'])\n",
    "p_digit =  freq_ld['Frequency']/ntotal\n",
    "print(p_digit)"
   ]
  },
  {
   "cell_type": "markdown",
   "metadata": {},
   "source": [
    "<p> Now that we have the corresponding probabilities for each observation we can plot the PMF, where the $x$-axis will be the observation (digit) and the $y$-axis will be the corresponding likelihood (probability). </p>"
   ]
  },
  {
   "cell_type": "code",
   "execution_count": 263,
   "metadata": {},
   "outputs": [
    {
     "data": {
      "image/png": "[encoded data removed]",
      "text/plain": [
       "<matplotlib.figure.Figure at 0x11e56f278>"
      ]
     },
     "metadata": {},
     "output_type": "display_data"
    }
   ],
   "source": [
    "fig = plt.figure()\n",
    "ax = fig.add_subplot(111)\n",
    "ax.scatter(freq_ld['Leading Digit'], freq_ld['Frequency']/len(data['country']))\n",
    "ax.set_xlabel('Leading Digit')\n",
    "ax.set_ylabel('Likelihood')\n",
    "ax.set_title('PMF of Country Leading Digit')\n",
    "plt.show()\n"
   ]
  },
  {
   "cell_type": "markdown",
   "metadata": {},
   "source": [
    "<h2> Agreement with the Benford PMF </h2>"
   ]
  },
  {
   "cell_type": "markdown",
   "metadata": {},
   "source": [
    "<p> The Benford PMF is given by $$P_{BL}=\\log_{10}(1+\\frac{1}{n})$$ our goal is now to see how well our data fit to the Benford PMF (in a qualitative sense). To do this let's first generate an array of dummy leading digits, using the numpy.arange() function. We will then operate the Benford function on these values to generate a model of the Benford PMF for leading digits. We will then compare the model to the observed data by plotting the two on the same graph. </p>"
   ]
  },
  {
   "cell_type": "code",
   "execution_count": 266,
   "metadata": {},
   "outputs": [
    {
     "name": "stdout",
     "output_type": "stream",
     "text": [
      "[1 2 3 4 5 6 7 8 9]\n"
     ]
    }
   ],
   "source": [
    "digit_dummy = np.arange(1, 10, 1)\n",
    "print(digit_dummy)\n",
    "benford_model = np.log10(1+1/digit_dummy)"
   ]
  },
  {
   "cell_type": "code",
   "execution_count": 267,
   "metadata": {},
   "outputs": [
    {
     "data": {
      "image/png": "[encoded data removed]",
      "text/plain": [
       "<matplotlib.figure.Figure at 0x11e64d550>"
      ]
     },
     "metadata": {},
     "output_type": "display_data"
    }
   ],
   "source": [
    "fig = plt.figure()\n",
    "ax = fig.add_subplot(111)\n",
    "ax.scatter(freq_ld['Leading Digit'], freq_ld['Frequency']/len(data['country']), label = 'Observed')\n",
    "ax.scatter(digit_dummy, benford_model, color = 'red', label = 'Model')\n",
    "ax.legend(loc = 0)\n",
    "ax.set_xlabel('Leading Digit')\n",
    "ax.set_ylabel('Likelihood')\n",
    "ax.set_title('PMF of Country Leading Digit')\n",
    "plt.show()"
   ]
  },
  {
   "cell_type": "markdown",
   "metadata": {},
   "source": [
    "<p> The distribution of leading digits in the table of country population follows Benford’s Law to a remarkable degree. </p>"
   ]
  },
  {
   "cell_type": "code",
   "execution_count": null,
   "metadata": {
    "collapsed": true
   },
   "outputs": [],
   "source": []
  }
 ],
 "metadata": {
  "kernelspec": {
   "display_name": "Python 3",
   "language": "python",
   "name": "python3"
  },
  "language_info": {
   "codemirror_mode": {
    "name": "ipython",
    "version": 3
   },
   "file_extension": ".py",
   "mimetype": "text/x-python",
   "name": "python",
   "nbconvert_exporter": "python",
   "pygments_lexer": "ipython3",
   "version": "3.6.1"
  }
 },
 "nbformat": 4,
 "nbformat_minor": 2
}
